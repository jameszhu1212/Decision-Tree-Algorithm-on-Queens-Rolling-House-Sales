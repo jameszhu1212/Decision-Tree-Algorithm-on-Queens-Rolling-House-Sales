{
 "cells": [
  {
   "cell_type": "code",
   "execution_count": 54,
   "id": "bd6673a3",
   "metadata": {},
   "outputs": [],
   "source": [
    "import pandas as pd\n",
    "import seaborn as sns\n",
    "import matplotlib.pyplot as plt\n",
    "%matplotlib inline"
   ]
  },
  {
   "cell_type": "code",
   "execution_count": 55,
   "id": "8ddc773c",
   "metadata": {},
   "outputs": [
    {
     "data": {
      "text/plain": [
       "(10769, 18)"
      ]
     },
     "execution_count": 55,
     "metadata": {},
     "output_type": "execute_result"
    }
   ],
   "source": [
    "data = sns.load_dataset('rollingsales_queens')\n",
    "\n",
    "data.dropna(axis = 0, inplace = True) # Remove rows with empty cells\n",
    "\n",
    "# Remove rows where Sale Price is 0. 0 indicates transfer of home to family memeber.\n",
    "data = data[data[' SALE PRICE '] != 0] \n",
    "\n",
    "data.shape"
   ]
  },
  {
   "cell_type": "code",
   "execution_count": 88,
   "id": "09b983d1",
   "metadata": {},
   "outputs": [
    {
     "data": {
      "text/plain": [
       "Index(['BOROUGH', 'NEIGHBORHOOD', 'BUILDING CLASS CATEGORY',\n",
       "       'TAX CLASS AT PRESENT', 'BLOCK', 'LOT', 'ADDRESS', 'ZIP CODE',\n",
       "       'RESIDENTIAL UNITS', 'COMMERCIAL UNITS', 'TOTAL UNITS',\n",
       "       'LAND SQUARE FEET', 'GROSS SQUARE FEET', 'YEAR BUILT',\n",
       "       'TAX CLASS AT TIME OF SALE', 'BUILDING CLASS AT TIME OF SALE',\n",
       "       ' SALE PRICE ', 'SALE DATE'],\n",
       "      dtype='object')"
      ]
     },
     "execution_count": 88,
     "metadata": {},
     "output_type": "execute_result"
    }
   ],
   "source": [
    "data.columns"
   ]
  },
  {
   "cell_type": "code",
   "execution_count": 57,
   "id": "4380c09c",
   "metadata": {
    "scrolled": true
   },
   "outputs": [
    {
     "data": {
      "text/plain": [
       "<AxesSubplot:>"
      ]
     },
     "execution_count": 57,
     "metadata": {},
     "output_type": "execute_result"
    },
    {
     "data": {
      "image/png": "[encoded data removed]",
      "text/plain": [
       "<Figure size 432x288 with 2 Axes>"
      ]
     },
     "metadata": {
      "needs_background": "light"
     },
     "output_type": "display_data"
    }
   ],
   "source": [
    "# Correlation Heatmap\n",
    "\n",
    "sns.heatmap(data.corr())"
   ]
  },
  {
   "cell_type": "code",
   "execution_count": 96,
   "id": "64cd9476",
   "metadata": {},
   "outputs": [],
   "source": [
    "# Selecting features to determine sale price\n",
    "y = data[' SALE PRICE ']\n",
    "\n",
    "features = ['LAND SQUARE FEET', 'GROSS SQUARE FEET', 'YEAR BUILT', 'BOROUGH', 'ZIP CODE']\n",
    "x = data[features]"
   ]
  },
  {
   "cell_type": "code",
   "execution_count": 97,
   "id": "a1088096",
   "metadata": {},
   "outputs": [],
   "source": [
    "from sklearn.tree import DecisionTreeRegressor \n",
    "\n",
    "model = DecisionTreeRegressor(random_state = 10) # Create model"
   ]
  },
  {
   "cell_type": "code",
   "execution_count": 104,
   "id": "d7925e0e",
   "metadata": {},
   "outputs": [
    {
     "data": {
      "text/plain": [
       "DecisionTreeRegressor(random_state=10)"
      ]
     },
     "execution_count": 104,
     "metadata": {},
     "output_type": "execute_result"
    }
   ],
   "source": [
    "from sklearn.model_selection import train_test_split\n",
    "\n",
    "x_train, x_test, y_train, y_test = train_test_split(x, y, train_size = 0.85, random_state = 101) # Train model\n",
    "\n",
    "model.fit(x_train, y_train) # Fit model"
   ]
  },
  {
   "cell_type": "code",
   "execution_count": 105,
   "id": "517efd7c",
   "metadata": {},
   "outputs": [
    {
     "data": {
      "text/plain": [
       "0.7188923348155392"
      ]
     },
     "execution_count": 105,
     "metadata": {},
     "output_type": "execute_result"
    }
   ],
   "source": [
    "from sklearn.model_selection import cross_val_score\n",
    "\n",
    "model.score(x_test, y_test) # Determine accuracy score\n",
    "\n",
    "# A training size of 0.85, the accuracy score is 0.72, which is good"
   ]
  },
  {
   "cell_type": "code",
   "execution_count": 121,
   "id": "af2f1399",
   "metadata": {},
   "outputs": [
    {
     "data": {
      "text/plain": [
       "0.35008876696531266"
      ]
     },
     "execution_count": 121,
     "metadata": {},
     "output_type": "execute_result"
    }
   ],
   "source": [
    "# Features Set 2\n",
    "\n",
    "features2 = ['BOROUGH', 'ZIP CODE', 'RESIDENTIAL UNITS', 'COMMERCIAL UNITS', 'YEAR BUILT']\n",
    "x2 = data[features2]\n",
    "\n",
    "model2 = DecisionTreeRegressor(random_state = 10) # Create model\n",
    "\n",
    "x_train, x_test, y_train, y_test = train_test_split(x2, y, train_size = 0.75, random_state = 101) # Train model\n",
    "\n",
    "model2.fit(x_train, y_train) # Fit model\n",
    "\n",
    "model2.score(x_test, y_test) # Determine accuracy score\n",
    "\n",
    "# A training size of 0.75, the accuracy score is 0.35, which is not good"
   ]
  },
  {
   "cell_type": "code",
   "execution_count": 89,
   "id": "14a2fc69",
   "metadata": {},
   "outputs": [
    {
     "data": {
      "text/plain": [
       "Index(['BOROUGH', 'NEIGHBORHOOD', 'BUILDING CLASS CATEGORY',\n",
       "       'TAX CLASS AT PRESENT', 'BLOCK', 'LOT', 'ADDRESS', 'ZIP CODE',\n",
       "       'RESIDENTIAL UNITS', 'COMMERCIAL UNITS', 'TOTAL UNITS',\n",
       "       'LAND SQUARE FEET', 'GROSS SQUARE FEET', 'YEAR BUILT',\n",
       "       'TAX CLASS AT TIME OF SALE', 'BUILDING CLASS AT TIME OF SALE',\n",
       "       ' SALE PRICE ', 'SALE DATE'],\n",
       "      dtype='object')"
      ]
     },
     "execution_count": 89,
     "metadata": {},
     "output_type": "execute_result"
    }
   ],
   "source": [
    "data.columns"
   ]
  },
  {
   "cell_type": "code",
   "execution_count": 132,
   "id": "fdf8aa21",
   "metadata": {},
   "outputs": [
    {
     "data": {
      "text/plain": [
       "0.736375389545203"
      ]
     },
     "execution_count": 132,
     "metadata": {},
     "output_type": "execute_result"
    }
   ],
   "source": [
    "# Features Set 3\n",
    "\n",
    "features3 = ['LAND SQUARE FEET', 'GROSS SQUARE FEET', 'YEAR BUILT']\n",
    "x3 = data[features3]\n",
    "\n",
    "model3 = DecisionTreeRegressor(random_state = 10) # Create model\n",
    "\n",
    "x_train, x_test, y_train, y_test = train_test_split(x3, y, train_size = 0.9, random_state = 101) # Train model\n",
    "\n",
    "model3.fit(x_train, y_train) # Fit model\n",
    "\n",
    "model3.score(x_test, y_test) # Determine accuracy score\n",
    "\n",
    "# A training size of 0.9, the accuracy score is 0.74, which is good"
   ]
  },
  {
   "cell_type": "code",
   "execution_count": 129,
   "id": "0fc3c689",
   "metadata": {},
   "outputs": [
    {
     "data": {
      "text/plain": [
       "0.18697490081029655"
      ]
     },
     "execution_count": 129,
     "metadata": {},
     "output_type": "execute_result"
    }
   ],
   "source": [
    "# Features Set 4\n",
    "\n",
    "features4 = ['BOROUGH', 'ZIP CODE', 'RESIDENTIAL UNITS', 'LOT', 'GROSS SQUARE FEET', 'YEAR BUILT']\n",
    "x4 = data[features4]\n",
    "\n",
    "model4 = DecisionTreeRegressor(random_state = 10) # Create model\n",
    "\n",
    "x_train, x_test, y_train, y_test = train_test_split(x4, y, train_size = 0.5, random_state = 101) # Train model\n",
    "\n",
    "model4.fit(x_train, y_train) # Fit model\n",
    "\n",
    "model4.score(x_test, y_test) # Determine accuracy score\n",
    "\n",
    "# A training size of 0.5, the accuracy score is 0.19, which is not good"
   ]
  },
  {
   "cell_type": "code",
   "execution_count": 128,
   "id": "344e983f",
   "metadata": {},
   "outputs": [
    {
     "data": {
      "text/plain": [
       "0.35585414797989234"
      ]
     },
     "execution_count": 128,
     "metadata": {},
     "output_type": "execute_result"
    }
   ],
   "source": [
    "# Features Set 5\n",
    "\n",
    "features5 = ['BOROUGH', 'ZIP CODE', 'COMMERCIAL UNITS', 'LOT', 'GROSS SQUARE FEET', 'YEAR BUILT']\n",
    "x5 = data[features5]\n",
    "\n",
    "model5 = DecisionTreeRegressor(random_state = 10) # Create model\n",
    "\n",
    "x_train, x_test, y_train, y_test = train_test_split(x5, y, train_size = 0.25, random_state = 101) # Train model\n",
    "\n",
    "model5.fit(x_train, y_train) # Fit model\n",
    "\n",
    "model5.score(x_test, y_test) # Determine accuracy score\n",
    "\n",
    "# A training size of 0.25, the accuracy score is 0.36, which is not good"
   ]
  }
 ],
 "metadata": {
  "kernelspec": {
   "display_name": "Python 3 (ipykernel)",
   "language": "python",
   "name": "python3"
  },
  "language_info": {
   "codemirror_mode": {
    "name": "ipython",
    "version": 3
   },
   "file_extension": ".py",
   "mimetype": "text/x-python",
   "name": "python",
   "nbconvert_exporter": "python",
   "pygments_lexer": "ipython3",
   "version": "3.9.12"
  }
 },
 "nbformat": 4,
 "nbformat_minor": 5
}
